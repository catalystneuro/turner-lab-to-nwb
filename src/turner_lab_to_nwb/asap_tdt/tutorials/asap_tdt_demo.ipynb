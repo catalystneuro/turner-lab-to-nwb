{
 "cells": [
  {
   "cell_type": "markdown",
   "id": "c0d21b01-e4c8-438b-b71b-992b7c498a9d",
   "metadata": {},
   "source": [
    "# Reach-related Single Unit Activity in the Parkinsonian Macaque Tutorial \n",
    "\n",
    "This tutorial demonstrates how to access an NWB file from the public dataset using `pynwb`.\n",
    "\n",
    "This dataset contains recordings of single-unit activity from from multiple cortical areas, including globus pallidus-internus (GPi), ventrolateral nucleus of the thalamus (VLa and VLp) and the arm-related regions of primary motor cortex, including sulcus (M1-S) and gyrus (M1-G) subregions, in monkeys performing a choice reaction time reaching task. Small numbers of recordings were also obtained from supplementary motor area (SMA), external globus pallidus (GPe), the thalamic reticular nucleus (RTN), striatum (STR) and the region between RTN and VL thalamus (R-V). It contains data from two monkeys before and after the administration of MPTP (1-methyl-4-phenyl-1,2,3,6-tetrahydropyridine), which induces Parkinsonism. The neuronal activity was recorded using 16-contact linear probes (0.5–1.0 MΩ, V-probe, Plexon) or glass-insulated tungsten microelectrodes (0.5–1.5 MΩ, Alpha Omega). The neuronal data were amplified (4×, 2 Hz–7.5 kHz) and digitized at 24.414 kHz (approx., 16-bit resolution; Tucker Davis Technologies). The neuronal data were high-pass filtered (Fpass: 200 Hz, Matlab FIRPM) and thresholded, and candidate action potentials were sorted into clusters in principal components space (Off-line Sorter, Plexon).\n",
    "\n",
    "Contents:\n",
    "\n",
    "- [Reading an NWB file](#read-nwb)\n",
    "- [Access Subject metadata](#access-subject)\n",
    "- [Access Trials](#access-trials)\n",
    "- [Access Recording](#access-recording)\n",
    "- [Access Units](#access-units)\n",
    "- [View NWB files](#view-nwb)\n",
    "\n",
    "\n",
    "A schematic representation where the source data is saved in NWB:\n",
    "\n",
    "![Alt text](../asap_tdt_uml.png)\n"
   ]
  },
  {
   "cell_type": "markdown",
   "id": "860e5617-7a9b-45db-8a70-4d76aade26d7",
   "metadata": {},
   "source": [
    "# Reading an NWB file <a name=\"read-nwb\"></a>\n",
    "\n",
    "This section demonstrates how to read an NWB file using `pynwb`.\n",
    "\n",
    "Based on the [NWB File Basics](https://pynwb.readthedocs.io/en/stable/tutorials/general/plot_file.html#sphx-glr-tutorials-general-plot-file-py) tutorial from [PyNWB](https://pynwb.readthedocs.io/en/stable/#).\n",
    "\n",
    "An [NWBFile](https://pynwb.readthedocs.io/en/stable/pynwb.file.html#pynwb.file.NWBFile) represents a single session of an experiment. Each NWBFile must have a `session description`, `identifier`, and `session start time`.\n",
    "\n",
    "Reading is carried out using the [NWBHDF5IO](https://pynwb.readthedocs.io/en/stable/pynwb.html#pynwb.NWBHDF5IO) class. To read the NWB file use the read mode (\"r\") to retrieve an NWBFile object."
   ]
  },
  {
   "cell_type": "code",
   "execution_count": null,
   "id": "d6ba6a5f-fa76-4db8-874b-f5949fe6126f",
   "metadata": {
    "ExecuteTime": {
     "end_time": "2024-05-01T14:38:42.970755Z",
     "start_time": "2024-05-01T14:38:40.581130Z"
    }
   },
   "outputs": [],
   "source": [
    "from pynwb import NWBHDF5IO\n",
    "\n",
    "# The file path to a .nwb file\n",
    "nwbfile_path = \"/Users/weian/data/nwbfiles-post-MPTP-Gaia/Gaia_G_170208_2.nwb\"\n",
    "io = NWBHDF5IO(path=nwbfile_path, mode=\"r\", load_namespaces=True)\n",
    "nwbfile = io.read()\n",
    "\n",
    "nwbfile"
   ]
  },
  {
   "cell_type": "markdown",
   "id": "95577a10-ea9a-4e0f-a1b4-a7440ac9236c",
   "metadata": {},
   "source": [
    "Importantly, the `session start time` is the reference time for all timestamps in the file. For instance, an event with a timestamp of 0 in the file means the event occurred exactly at the session start time.\n",
    "\n",
    "The `session_start_time` is extracted from the `Tanksummary`, `CollectDate`nwbfile.session_start_time structure from the .mat file that contains the events, curated units and optionally include the stimulation data."
   ]
  },
  {
   "cell_type": "code",
   "execution_count": null,
   "id": "0c61c9f9-d915-42cf-b9a6-89e60b8b09a8",
   "metadata": {
    "ExecuteTime": {
     "end_time": "2024-05-01T14:38:50.971070Z",
     "start_time": "2024-05-01T14:38:50.967612Z"
    }
   },
   "outputs": [],
   "source": [
    "nwbfile.session_start_time"
   ]
  },
  {
   "cell_type": "markdown",
   "id": "a78abdfd-03a0-45f9-ae07-e07a18286e86",
   "metadata": {},
   "source": [
    "# Access subject metadata <a name=\"access-subject\"></a>\n",
    "\n",
    "This section demonstrates how to access the [Subject](https://pynwb.readthedocs.io/en/stable/pynwb.file.html#pynwb.file.Subject) field in an NWB file.\n",
    "\n",
    "The [Subject](https://pynwb.readthedocs.io/en/stable/pynwb.file.html#pynwb.file.Subject) field can be accessed as `nwbfile.subject`."
   ]
  },
  {
   "cell_type": "code",
   "execution_count": null,
   "id": "e5a3c3bb-8c9a-41b6-b3d0-dd0a6581b030",
   "metadata": {
    "ExecuteTime": {
     "end_time": "2024-05-01T14:38:54.243926Z",
     "start_time": "2024-05-01T14:38:54.241579Z"
    }
   },
   "outputs": [],
   "source": [
    "nwbfile.subject"
   ]
  },
  {
   "cell_type": "markdown",
   "id": "5f2f4116-f38f-45c4-b346-81c2db86afa7",
   "metadata": {},
   "source": [
    "The MPTP status is stored in a [TurnerLabMetaData](https://github.com/catalystneuro/ndx-turner-metadata) container which extends [pynwb.file.LabMetaData](https://pynwb.readthedocs.io/en/stable/pynwb.file.html#pynwb.file.LabMetaData), and can be accessed as `nwbfile.lab_meta_data[\"MPTPMetaData\"]`.\n"
   ]
  },
  {
   "cell_type": "code",
   "execution_count": null,
   "id": "8e8c9994-6aad-45b2-a647-fef07440e211",
   "metadata": {
    "ExecuteTime": {
     "end_time": "2024-05-01T14:38:57.057634Z",
     "start_time": "2024-05-01T14:38:57.055217Z"
    }
   },
   "outputs": [],
   "source": [
    "nwbfile.lab_meta_data[\"MPTPMetaData\"]"
   ]
  },
  {
   "cell_type": "markdown",
   "id": "3c1ca78d-0aec-47ac-baad-96fda7ab1c37",
   "metadata": {},
   "source": [
    "# Access trials <a name=\"access-trials\"></a>\n",
    "\n",
    "Behavior trials are stored in `nwbfile.trials`. The `start_time` denotes the start time of each trial in seconds relative to the global session start time (using the \"starttime\" column from  `.mat` file containing the events).\n",
    "The `stop_time` denotes the end time of each trial in seconds relative to the global session start time\n",
    "(using the \"endtime\" column from the `.mat` file).\n",
    "\n",
    "`nwbfile.trials` can be converted to a pandas DataFrame for convenient analysis using `nwbfile.trials.to_dataframe()`.\n"
   ]
  },
  {
   "cell_type": "code",
   "execution_count": null,
   "id": "67073433-ae57-4459-900a-6b79e55b7795",
   "metadata": {
    "ExecuteTime": {
     "end_time": "2024-05-01T14:39:01.232627Z",
     "start_time": "2024-05-01T14:39:01.224925Z"
    }
   },
   "outputs": [],
   "source": [
    "trials = nwbfile.trials.to_dataframe()\n",
    "\n",
    "trials[:10]"
   ]
  },
  {
   "cell_type": "code",
   "execution_count": null,
   "id": "361f0f27-ae03-453c-ad2d-5563c908c646",
   "metadata": {
    "ExecuteTime": {
     "end_time": "2024-05-01T14:39:05.349251Z",
     "start_time": "2024-05-01T14:39:05.339779Z"
    }
   },
   "outputs": [],
   "source": [
    "trials[trials[\"target\"] == \"Left\"][:3]"
   ]
  },
  {
   "cell_type": "markdown",
   "id": "f29abc49-b06c-48bb-8cfa-8f4ce3200ae0",
   "metadata": {},
   "source": [
    "# Access Recording <a name=\"access-recording\"></a>\n",
    "\n",
    "This section demonstrates how to access the raw `ElectricalSeries` data.\n",
    "\n",
    "`NWB` organizes data into different groups depending on the type of data. Groups can be thought of as folders within the file. Here are some of the groups within an NWBFile and the types of data they are intended to store:\n",
    "\n",
    "- `acquisition`: raw, acquired data that should never change\n",
    "- `processing`: processed data, typically the results of preprocessing algorithms and could change\n",
    "\n",
    "## Raw ElectricalSeries\n",
    "\n",
    "The raw ElectricalSeries data is stored in an [pynwb.ecephys.ElectricalSeries](https://pynwb.readthedocs.io/en/stable/pynwb.ecephys.html#pynwb.ecephys.ElectricalSeries) object which is added to `nwbfile.acquisition`. The data can be accessed as `nwbfile.acquisition[\"ElectricalSeries\"]`.\n",
    "\n",
    "The data in `ElectricalSeries` is stored as a two dimensional array: the first dimension is time, the second dimension represents electrodes/channels.\n"
   ]
  },
  {
   "cell_type": "code",
   "execution_count": null,
   "id": "60c80beb-9785-425c-8f6a-705f1795d707",
   "metadata": {
    "ExecuteTime": {
     "end_time": "2024-05-01T14:39:10.143420Z",
     "start_time": "2024-05-01T14:39:10.141441Z"
    }
   },
   "outputs": [],
   "source": [
    "electrical_series = nwbfile.acquisition[\"ElectricalSeries\"]"
   ]
  },
  {
   "cell_type": "code",
   "execution_count": null,
   "id": "f3c486f2-0f1d-4d41-b756-e03b042dd8ec",
   "metadata": {
    "ExecuteTime": {
     "end_time": "2024-05-01T14:39:13.860726Z",
     "start_time": "2024-05-01T14:39:12.870048Z"
    }
   },
   "outputs": [],
   "source": [
    "import pandas as pd\n",
    "from matplotlib import pyplot as plt\n",
    "\n",
    "# Prepare data for plotting\n",
    "data = electrical_series.data[:1000, :10]\n",
    "timestamps = electrical_series.get_timestamps()[:1000]\n",
    "df = pd.DataFrame(data)\n",
    "df[\"Time (s)\"] = timestamps\n",
    "df.set_index(\"Time (s)\", inplace=True)\n",
    "df.columns.name = \"electrodes\"\n",
    "channel_name_mapper = dict(zip(df.columns, electrical_series.electrodes[\"channel_name\"][:]))\n",
    "df.rename(channel_name_mapper, axis=1, inplace=True)\n",
    "\n",
    "fig, axes = plt.subplots(nrows=len(df.columns), sharex=True, sharey=True, dpi=200)\n",
    "lines = df.plot(subplots=True, ax=axes, legend=False, linewidth=0.8)\n",
    "\n",
    "# Hide y-axis labels\n",
    "for ax in axes:\n",
    "    ax.yaxis.set_visible(False)\n",
    "\n",
    "# Remove box around the plots\n",
    "for ax in axes:\n",
    "    ax.set_frame_on(False)\n",
    "\n",
    "# Get handles and labels for all lines\n",
    "handles, labels = [], []\n",
    "for line in lines:\n",
    "    h, l = line.get_legend_handles_labels()\n",
    "    handles.extend(h)\n",
    "    labels.extend(l)\n",
    "\n",
    "# Create a single legend box\n",
    "fig.legend(handles, labels, loc='upper right', bbox_to_anchor=(1.2, 0.8), frameon=False)\n",
    "plt.xlabel('Time (s)')\n",
    "plt.tight_layout()\n",
    "plt.show()"
   ]
  },
  {
   "cell_type": "markdown",
   "id": "a0be1ffa-c56b-468a-bdec-345ca66be7a9",
   "metadata": {},
   "source": [
    "We can access the sampling frequence of the ElectricalSeries as `nwbfile.acquisition[\"ElectricalSeries\"].rate`, and starting_time (which is relative to `session_start_time` and is in unit of seconds) as `nwbfile.acquisition[\"ElectricalSeries\"].starting_time`: "
   ]
  },
  {
   "cell_type": "code",
   "execution_count": null,
   "id": "d1cf7950-9427-4522-b172-798bb54b0a57",
   "metadata": {
    "ExecuteTime": {
     "end_time": "2024-05-01T14:39:20.287597Z",
     "start_time": "2024-05-01T14:39:20.285116Z"
    }
   },
   "outputs": [],
   "source": [
    "electrical_series.rate, electrical_series.starting_time"
   ]
  },
  {
   "cell_type": "markdown",
   "id": "540565a6-abad-4f63-a6a1-b06b656f6b3a",
   "metadata": {},
   "source": [
    "The electrodes table describe the electrodes that generated this data. Extracellular electrodes are stored in an \"electrodes\" table, which is a [DynamicTable](https://hdmf.readthedocs.io/en/stable/hdmf.common.table.html#hdmf.common.table.DynamicTable) and can be can be converted to a pandas DataFrame for convenient analysis using `nwbfile.electrodes.to_dataframe()`."
   ]
  },
  {
   "cell_type": "code",
   "execution_count": null,
   "id": "d4a56a82-e135-4f41-941c-d25b2b6fc5ba",
   "metadata": {
    "ExecuteTime": {
     "end_time": "2024-05-01T14:39:22.677552Z",
     "start_time": "2024-05-01T14:39:22.664333Z"
    }
   },
   "outputs": [],
   "source": [
    "nwbfile.electrodes.to_dataframe()"
   ]
  },
  {
   "cell_type": "markdown",
   "id": "c4e898a7-8920-45d1-aa1e-a86fbfc3d13b",
   "metadata": {},
   "source": [
    "## Filtered ElectricalSeries\n",
    "\n",
    "\n",
    "The processed ecephys data is stored in \"processing/ecephys\" which can be accessed as `nwbfile.processing[\"ecephys\"]`.\n",
    "Within this processing module we can access the container of filtered traces as `nwbfile.processing[\"ecephys\"][\"Processed\"]` which can hold multiple processed `ElectricalSeries` objects.\n"
   ]
  },
  {
   "cell_type": "code",
   "execution_count": null,
   "id": "21f92c95-f391-43d9-a4e1-9bab82c4d499",
   "metadata": {
    "ExecuteTime": {
     "end_time": "2024-05-01T14:39:31.433393Z",
     "start_time": "2024-05-01T14:39:31.418758Z"
    }
   },
   "outputs": [],
   "source": [
    "nwbfile.processing[\"ecephys\"]"
   ]
  },
  {
   "cell_type": "code",
   "execution_count": null,
   "id": "e855f083-c6c9-44e8-ae0a-efa50f43175b",
   "metadata": {
    "ExecuteTime": {
     "end_time": "2024-05-01T14:39:33.098989Z",
     "start_time": "2024-05-01T14:39:33.090294Z"
    }
   },
   "outputs": [],
   "source": [
    "nwbfile.processing[\"ecephys\"][\"Processed\"]"
   ]
  },
  {
   "cell_type": "code",
   "execution_count": null,
   "id": "92063ea2-4d07-4bed-b0c8-6c52c63d8aa5",
   "metadata": {
    "ExecuteTime": {
     "end_time": "2024-05-01T14:39:36.153383Z",
     "start_time": "2024-05-01T14:39:36.147063Z"
    }
   },
   "outputs": [],
   "source": [
    "nwbfile.processing[\"ecephys\"][\"Processed\"][\"ElectricalSeriesProcessedGPi\"]"
   ]
  },
  {
   "cell_type": "markdown",
   "id": "342da7d2-42aa-407f-9c00-e29ce9e0e1b7",
   "metadata": {},
   "source": [
    "# Access Units <a name=\"access-units\"></a>\n",
    "\n",
    "Spike times are stored in the `Units` table, which is a DynamicTable and can be can be converted to a pandas DataFrame for convenient analysis using `nwbfile.units.to_dataframe()`.\n",
    "\n",
    "The spike_times and other metadata that are stored in `nwbfile.units` is extracted from the .mat file that contains the \"units\" structure.\n",
    "\n",
    "_Note_:\n",
    "The spike times from the Plexon files are added to \"processing/ecephys\" processing module and can be accessed as `nwbfile.processing[\"ecephys\"][\"units\"]`."
   ]
  },
  {
   "cell_type": "code",
   "execution_count": null,
   "id": "35d72c09-8b23-4949-a1f3-28d3e50365a8",
   "metadata": {
    "ExecuteTime": {
     "end_time": "2024-05-01T14:39:44.198206Z",
     "start_time": "2024-05-01T14:39:44.191656Z"
    }
   },
   "outputs": [],
   "source": [
    "nwbfile.units.to_dataframe()"
   ]
  },
  {
   "cell_type": "markdown",
   "id": "1f71692e-2b23-4f8c-8b42-35034e00a697",
   "metadata": {},
   "source": [
    "# View NWB  <a name=\"view-nwb\"></a>\n"
   ]
  },
  {
   "cell_type": "code",
   "execution_count": null,
   "id": "6bfd3b91-5027-4d1d-ade6-98c393b28f8e",
   "metadata": {},
   "outputs": [],
   "source": [
    "from nwbwidgets import nwb2widget\n",
    "\n",
    "nwb2widget(nwbfile)"
   ]
  },
  {
   "cell_type": "markdown",
   "id": "7e486ac3-66cb-443f-ae38-696a1993f6ea",
   "metadata": {},
   "source": [
    "We also use [Neurosift](https://github.com/flatironinstitute/neurosift), a platform for the visualization of neuroscience data in the web browser."
   ]
  },
  {
   "cell_type": "code",
   "execution_count": null,
   "id": "4dbf8a7c-bf7c-45da-8754-c703d8dccd4a",
   "metadata": {},
   "outputs": [],
   "source": []
  }
 ],
 "metadata": {
  "kernelspec": {
   "display_name": "Python 3 (ipykernel)",
   "language": "python",
   "name": "python3"
  },
  "language_info": {
   "codemirror_mode": {
    "name": "ipython",
    "version": 3
   },
   "file_extension": ".py",
   "mimetype": "text/x-python",
   "name": "python",
   "nbconvert_exporter": "python",
   "pygments_lexer": "ipython3",
   "version": "3.12.1"
  }
 },
 "nbformat": 4,
 "nbformat_minor": 5
}
